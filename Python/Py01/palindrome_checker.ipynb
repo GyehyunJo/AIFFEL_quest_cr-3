{
 "cells": [
  {
   "cell_type": "code",
   "execution_count": null,
   "metadata": {},
   "outputs": [
    {
     "ename": "",
     "evalue": "",
     "output_type": "error",
     "traceback": [
      "\u001b[1;31mRunning cells with 'Python 3.12.5' requires the ipykernel package.\n",
      "\u001b[1;31mRun the following command to install 'ipykernel' into the Python environment. \n",
      "\u001b[1;31mCommand: '/opt/homebrew/bin/python3 -m pip install ipykernel -U --user --force-reinstall'"
     ]
    }
   ],
   "source": [
    "# 단어를 입력받을 수 있게 한다.\n",
    "str = input(\"단어를 입력하세요: \")\n",
    "\n",
    "# 함수: 입력된 단어를 뒤집어서! 출력할 수 있게! 한다.\n",
    "  # [참고]\n",
    "  # reversed_str_lst = list(str)[::-1]\n",
    "\n",
    "def reverse_and_print(str):\n",
    "    print('뒤집힌 단어는: ', end='')\n",
    "    for i in range(len(str)):\n",
    "      print(str[len(str)-i-1],end='')\n",
    "    print()\n",
    "   # print('뒤집힌 단어는:', \"\".join(list(str)[::-1]))\n",
    "\n",
    "# 함수: 입력된 단어가 회문이 맞는지 확인!하여 출력할 수 있게! 한다.\n",
    "  # [참고] \n",
    "  # ['a', 'b', 'c']\n",
    "  # for vs while (내 추천은 for 이유는 range)\n",
    "\n",
    "  # for x in y:\n",
    "  #    y의 요소들을 하나씩 x에다가 넣고 돌린다.\n",
    "  # range(start=0 : end=끝 : step=1)\n",
    "\n",
    "def check_reversed_and_print(str):\n",
    "  is_palindrome = True\n",
    "  for i in range(len(str)):\n",
    "     # print(i) # ex) str=\"abc\" , a\\nb\\nc\n",
    "     if str[i] != str[len(str)-i-1]:\n",
    "        is_palindrome = False\n",
    "        break\n",
    "  if is_palindrome:\n",
    "    print('입력된 단어는 회문입니다.')\n",
    "  else:\n",
    "    print('입력된 단어는 회문이 아닙니다.')\n",
    "\n",
    "# 함수를 실행한다.\n",
    "reverse_and_print(str)\n",
    "check_reversed_and_print(str)"
   ]
  }
 ],
 "metadata": {
  "kernelspec": {
   "display_name": "Python 3",
   "language": "python",
   "name": "python3"
  },
  "language_info": {
   "name": "python",
   "version": "3.12.5"
  }
 },
 "nbformat": 4,
 "nbformat_minor": 2
}
