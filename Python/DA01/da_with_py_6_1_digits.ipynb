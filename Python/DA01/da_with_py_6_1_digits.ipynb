{
  "nbformat": 4,
  "nbformat_minor": 0,
  "metadata": {
    "colab": {
      "provenance": [],
      "gpuType": "T4",
      "authorship_tag": "ABX9TyNYnF7UztI3SlgAJiaTD5V2",
      "include_colab_link": true
    },
    "kernelspec": {
      "name": "python3",
      "display_name": "Python 3"
    },
    "language_info": {
      "name": "python"
    }
  },
  "cells": [
    {
      "cell_type": "markdown",
      "metadata": {
        "id": "view-in-github",
        "colab_type": "text"
      },
      "source": [
        "<a href=\"https://colab.research.google.com/github/JUD210/AIFFEL_quest_cr/blob/main/Python/DA01/da_with_py_6_1.ipynb\" target=\"_parent\"><img src=\"https://colab.research.google.com/assets/colab-badge.svg\" alt=\"Open In Colab\"/></a>"
      ]
    },
    {
      "cell_type": "code",
      "execution_count": 10,
      "metadata": {
        "colab": {
          "base_uri": "https://localhost:8080/"
        },
        "id": "ln7igTfZeCnI",
        "outputId": "d8bc8d65-edc5-44b5-844d-302fccbb1213"
      },
      "outputs": [
        {
          "output_type": "stream",
          "name": "stdout",
          "text": [
            "sklearn version: 1.3.2\n"
          ]
        }
      ],
      "source": [
        "# 6-1. 프로젝트 (1) load_digits : 손글씨를 분류해 봅시다\n",
        "\n",
        "# 라이브러리 버전 확인\n",
        "import sklearn\n",
        "print(f\"sklearn version: {sklearn.__version__}\")"
      ]
    },
    {
      "cell_type": "code",
      "source": [
        "# (1) 필요한 모듈 import하기\n",
        "import pandas as pd\n",
        "from sklearn.datasets import load_digits\n",
        "from sklearn.model_selection import train_test_split\n",
        "from sklearn.metrics import classification_report, accuracy_score, precision_score, recall_score, f1_score\n",
        "from sklearn.tree import DecisionTreeClassifier\n",
        "from sklearn.ensemble import RandomForestClassifier\n",
        "from sklearn.svm import SVC\n",
        "from sklearn.linear_model import SGDClassifier, LogisticRegression\n"
      ],
      "metadata": {
        "id": "EjG5AA_VelQq"
      },
      "execution_count": 11,
      "outputs": []
    },
    {
      "cell_type": "code",
      "source": [
        "# (2) 데이터 준비\n",
        "digits = load_digits()\n",
        "print(type(digits))\n",
        "print(digits.keys())"
      ],
      "metadata": {
        "id": "mKnVajK0evxF",
        "colab": {
          "base_uri": "https://localhost:8080/"
        },
        "outputId": "01117468-9e7b-4e84-de9a-10d571b6379a"
      },
      "execution_count": 12,
      "outputs": [
        {
          "output_type": "stream",
          "name": "stdout",
          "text": [
            "<class 'sklearn.utils._bunch.Bunch'>\n",
            "dict_keys(['data', 'target', 'frame', 'feature_names', 'target_names', 'images', 'DESCR'])\n"
          ]
        }
      ]
    },
    {
      "cell_type": "code",
      "source": [
        "# (3) 데이터 이해하기\n",
        "# Feature Data 지정하기\n",
        "X = digits.data\n",
        "print(\"\\nX: \", X)\n",
        "print(\"\\nData Shape:\", X.shape)\n",
        "print(\"\\nFeature Data Sample: \", X[0])\n",
        "print(\"\\nFeature Names:\", digits.feature_names)\n",
        "print(\"len(digits.feature_names): \", len(digits.feature_names))\n",
        "\n",
        "# Label Data 지정하기\n",
        "y = digits.target\n",
        "print(\"Label Shape:\", y.shape)\n",
        "print(\"\\nLabel Data Sample: \", y[0])\n",
        "\n",
        "# Target Names 출력해 보기\n",
        "print(\"Target Names:\", digits.target_names)\n",
        "print(\"len(digits.target_names): \", len(digits.target_names))\n",
        "\n",
        "# 데이터 Describe 해 보기\n",
        "\n",
        "print(\"\\nDescription:\")\n",
        "print(digits.DESCR)\n"
      ],
      "metadata": {
        "colab": {
          "base_uri": "https://localhost:8080/"
        },
        "id": "NG16Gbqze0Hc",
        "outputId": "4d4fcd14-1607-4954-ff82-bb3663a0ab54"
      },
      "execution_count": 13,
      "outputs": [
        {
          "output_type": "stream",
          "name": "stdout",
          "text": [
            "\n",
            "X:  [[ 0.  0.  5. ...  0.  0.  0.]\n",
            " [ 0.  0.  0. ... 10.  0.  0.]\n",
            " [ 0.  0.  0. ... 16.  9.  0.]\n",
            " ...\n",
            " [ 0.  0.  1. ...  6.  0.  0.]\n",
            " [ 0.  0.  2. ... 12.  0.  0.]\n",
            " [ 0.  0. 10. ... 12.  1.  0.]]\n",
            "\n",
            "Data Shape: (1797, 64)\n",
            "\n",
            "Feature Data Sample:  [ 0.  0.  5. 13.  9.  1.  0.  0.  0.  0. 13. 15. 10. 15.  5.  0.  0.  3.\n",
            " 15.  2.  0. 11.  8.  0.  0.  4. 12.  0.  0.  8.  8.  0.  0.  5.  8.  0.\n",
            "  0.  9.  8.  0.  0.  4. 11.  0.  1. 12.  7.  0.  0.  2. 14.  5. 10. 12.\n",
            "  0.  0.  0.  0.  6. 13. 10.  0.  0.  0.]\n",
            "\n",
            "Feature Names: ['pixel_0_0', 'pixel_0_1', 'pixel_0_2', 'pixel_0_3', 'pixel_0_4', 'pixel_0_5', 'pixel_0_6', 'pixel_0_7', 'pixel_1_0', 'pixel_1_1', 'pixel_1_2', 'pixel_1_3', 'pixel_1_4', 'pixel_1_5', 'pixel_1_6', 'pixel_1_7', 'pixel_2_0', 'pixel_2_1', 'pixel_2_2', 'pixel_2_3', 'pixel_2_4', 'pixel_2_5', 'pixel_2_6', 'pixel_2_7', 'pixel_3_0', 'pixel_3_1', 'pixel_3_2', 'pixel_3_3', 'pixel_3_4', 'pixel_3_5', 'pixel_3_6', 'pixel_3_7', 'pixel_4_0', 'pixel_4_1', 'pixel_4_2', 'pixel_4_3', 'pixel_4_4', 'pixel_4_5', 'pixel_4_6', 'pixel_4_7', 'pixel_5_0', 'pixel_5_1', 'pixel_5_2', 'pixel_5_3', 'pixel_5_4', 'pixel_5_5', 'pixel_5_6', 'pixel_5_7', 'pixel_6_0', 'pixel_6_1', 'pixel_6_2', 'pixel_6_3', 'pixel_6_4', 'pixel_6_5', 'pixel_6_6', 'pixel_6_7', 'pixel_7_0', 'pixel_7_1', 'pixel_7_2', 'pixel_7_3', 'pixel_7_4', 'pixel_7_5', 'pixel_7_6', 'pixel_7_7']\n",
            "len(digits.feature_names):  64\n",
            "Label Shape: (1797,)\n",
            "\n",
            "Label Data Sample:  0\n",
            "Target Names: [0 1 2 3 4 5 6 7 8 9]\n",
            "len(digits.target_names):  10\n",
            "\n",
            "Description:\n",
            ".. _digits_dataset:\n",
            "\n",
            "Optical recognition of handwritten digits dataset\n",
            "--------------------------------------------------\n",
            "\n",
            "**Data Set Characteristics:**\n",
            "\n",
            "    :Number of Instances: 1797\n",
            "    :Number of Attributes: 64\n",
            "    :Attribute Information: 8x8 image of integer pixels in the range 0..16.\n",
            "    :Missing Attribute Values: None\n",
            "    :Creator: E. Alpaydin (alpaydin '@' boun.edu.tr)\n",
            "    :Date: July; 1998\n",
            "\n",
            "This is a copy of the test set of the UCI ML hand-written digits datasets\n",
            "https://archive.ics.uci.edu/ml/datasets/Optical+Recognition+of+Handwritten+Digits\n",
            "\n",
            "The data set contains images of hand-written digits: 10 classes where\n",
            "each class refers to a digit.\n",
            "\n",
            "Preprocessing programs made available by NIST were used to extract\n",
            "normalized bitmaps of handwritten digits from a preprinted form. From a\n",
            "total of 43 people, 30 contributed to the training set and different 13\n",
            "to the test set. 32x32 bitmaps are divided into nonoverlapping blocks of\n",
            "4x4 and the number of on pixels are counted in each block. This generates\n",
            "an input matrix of 8x8 where each element is an integer in the range\n",
            "0..16. This reduces dimensionality and gives invariance to small\n",
            "distortions.\n",
            "\n",
            "For info on NIST preprocessing routines, see M. D. Garris, J. L. Blue, G.\n",
            "T. Candela, D. L. Dimmick, J. Geist, P. J. Grother, S. A. Janet, and C.\n",
            "L. Wilson, NIST Form-Based Handprint Recognition System, NISTIR 5469,\n",
            "1994.\n",
            "\n",
            "|details-start|\n",
            "**References**\n",
            "|details-split|\n",
            "\n",
            "- C. Kaynak (1995) Methods of Combining Multiple Classifiers and Their\n",
            "  Applications to Handwritten Digit Recognition, MSc Thesis, Institute of\n",
            "  Graduate Studies in Science and Engineering, Bogazici University.\n",
            "- E. Alpaydin, C. Kaynak (1998) Cascading Classifiers, Kybernetika.\n",
            "- Ken Tang and Ponnuthurai N. Suganthan and Xi Yao and A. Kai Qin.\n",
            "  Linear dimensionalityreduction using relevance weighted LDA. School of\n",
            "  Electrical and Electronic Engineering Nanyang Technological University.\n",
            "  2005.\n",
            "- Claudio Gentile. A New Approximate Maximal Margin Classification\n",
            "  Algorithm. NIPS. 2000.\n",
            "\n",
            "|details-end|\n"
          ]
        }
      ]
    },
    {
      "cell_type": "code",
      "source": [
        "# (4) train, test 데이터 분리\n",
        "X_train, X_test, y_train, y_test = train_test_split(X, y, test_size=0.2, random_state=42)\n",
        "print(\"X_train shape:\", X_train.shape, X_train[0])\n",
        "print(\"X_test shape:\", X_test.shape)\n",
        "print(\"y_train shape:\", y_train.shape, y_train[0])\n",
        "print(\"y_test shape:\", y_test.shape)"
      ],
      "metadata": {
        "id": "uebi9c0We1ag",
        "colab": {
          "base_uri": "https://localhost:8080/"
        },
        "outputId": "3e52e475-c419-4514-d43f-64dbfe3b4403"
      },
      "execution_count": 14,
      "outputs": [
        {
          "output_type": "stream",
          "name": "stdout",
          "text": [
            "X_train shape: (1437, 64) [ 0.  0.  3. 14.  1.  0.  0.  0.  0.  0. 12. 12.  0.  0.  0.  0.  0.  3.\n",
            " 16.  6.  0.  0.  0.  0.  0.  5. 16.  2.  0.  0.  0.  0.  0.  6. 16.  2.\n",
            "  5.  2.  0.  0.  0.  4. 16.  2. 12. 15.  2.  0.  0.  1. 14. 13.  2. 13.\n",
            " 11.  0.  0.  0.  3. 11. 16. 13.  4.  0.]\n",
            "X_test shape: (360, 64)\n",
            "y_train shape: (1437,) 6\n",
            "y_test shape: (360,)\n"
          ]
        }
      ]
    },
    {
      "cell_type": "code",
      "source": [
        "# (5) 다양한 모델로 학습시켜보기\n",
        "models = {\n",
        "    \"Decision Tree\": DecisionTreeClassifier(random_state=42),\n",
        "    \"Random Forest\": RandomForestClassifier(random_state=42),\n",
        "    \"SVM\": SVC(random_state=42),\n",
        "    \"SGD Classifier\": SGDClassifier(random_state=42),\n",
        "    \"Logistic Regression\": LogisticRegression(random_state=42, max_iter=3000, solver=\"saga\")\n",
        "    # \"Logistic Regression\": LogisticRegression(random_state=42, max_iter=1000, solver='lbfgs')\n",
        "    # 오류\n",
        "\n",
        "\n",
        "}\n",
        "\n",
        "for name, model in models.items():\n",
        "    model.fit(X_train, y_train)\n",
        "    print(f\"\\n{name} trained.\")\n"
      ],
      "metadata": {
        "colab": {
          "base_uri": "https://localhost:8080/"
        },
        "id": "c4Lsg_I6e2XK",
        "outputId": "149dc193-8415-4807-c59c-a666b7bcf4d2"
      },
      "execution_count": 19,
      "outputs": [
        {
          "output_type": "stream",
          "name": "stdout",
          "text": [
            "\n",
            "Decision Tree trained.\n",
            "\n",
            "Random Forest trained.\n",
            "\n",
            "SVM trained.\n",
            "\n",
            "SGD Classifier trained.\n",
            "\n",
            "Logistic Regression trained.\n"
          ]
        }
      ]
    },
    {
      "cell_type": "code",
      "source": [
        "# (6) 모델을 평가해 보기\n",
        "\n",
        "# for name, model in models.items():\n",
        "#     y_pred = model.predict(X_test)\n",
        "\n",
        "#     print(f\"\\n{name} 평가 결과:\")\n",
        "\n",
        "\n",
        "def evaluate_model(y_true, y_pred):\n",
        "    return {\n",
        "        'Accuracy': accuracy_score(y_true, y_pred),\n",
        "        'Precision': precision_score(y_true, y_pred, average='weighted'),\n",
        "        'Recall': recall_score(y_true, y_pred, average='weighted'),\n",
        "        'F1 Score': f1_score(y_true, y_pred, average='weighted')\n",
        "    }\n",
        "\n",
        "# 모델들의 평가 결과를 저장할 리스트 초기화\n",
        "model_results = []\n",
        "\n",
        "for name, model in models.items():\n",
        "    y_pred = model.predict(X_test)\n",
        "\n",
        "    # 각 모델별 평가 결과 출력\n",
        "    print(f\"\\n{name} 평가 결과:\")\n",
        "    print(classification_report(y_test, y_pred, target_names=digits.target_names.astype(str)))\n",
        "\n",
        "    # 결과 저장\n",
        "    results = evaluate_model(y_test, y_pred)\n",
        "    results['Model'] = name\n",
        "    model_results.append(results)\n",
        "\n",
        "# 결과를 DataFrame으로 변환\n",
        "df_results = pd.DataFrame(model_results).set_index('Model')\n",
        "\n",
        "# 결과 출력\n",
        "print(\"\\n모델별 성능 비교 결과:\")\n",
        "print(df_results)\n"
      ],
      "metadata": {
        "colab": {
          "base_uri": "https://localhost:8080/"
        },
        "id": "3iqgLZz3e3Gy",
        "outputId": "cb2e845f-a9b3-40d5-b413-cba1947537d1"
      },
      "execution_count": 23,
      "outputs": [
        {
          "output_type": "stream",
          "name": "stdout",
          "text": [
            "\n",
            "Decision Tree 평가 결과:\n",
            "              precision    recall  f1-score   support\n",
            "\n",
            "           0       0.97      0.88      0.92        33\n",
            "           1       0.85      0.79      0.81        28\n",
            "           2       0.86      0.73      0.79        33\n",
            "           3       0.76      0.85      0.81        34\n",
            "           4       0.84      0.91      0.87        46\n",
            "           5       0.89      0.85      0.87        47\n",
            "           6       0.97      0.91      0.94        35\n",
            "           7       0.82      0.91      0.86        34\n",
            "           8       0.75      0.70      0.72        30\n",
            "           9       0.75      0.82      0.79        40\n",
            "\n",
            "    accuracy                           0.84       360\n",
            "   macro avg       0.84      0.84      0.84       360\n",
            "weighted avg       0.85      0.84      0.84       360\n",
            "\n",
            "\n",
            "Random Forest 평가 결과:\n",
            "              precision    recall  f1-score   support\n",
            "\n",
            "           0       1.00      0.97      0.98        33\n",
            "           1       0.97      1.00      0.98        28\n",
            "           2       1.00      1.00      1.00        33\n",
            "           3       1.00      0.94      0.97        34\n",
            "           4       0.98      1.00      0.99        46\n",
            "           5       0.94      0.96      0.95        47\n",
            "           6       0.97      0.97      0.97        35\n",
            "           7       0.97      0.97      0.97        34\n",
            "           8       0.97      0.97      0.97        30\n",
            "           9       0.95      0.95      0.95        40\n",
            "\n",
            "    accuracy                           0.97       360\n",
            "   macro avg       0.97      0.97      0.97       360\n",
            "weighted avg       0.97      0.97      0.97       360\n",
            "\n",
            "\n",
            "SVM 평가 결과:\n",
            "              precision    recall  f1-score   support\n",
            "\n",
            "           0       1.00      1.00      1.00        33\n",
            "           1       1.00      1.00      1.00        28\n",
            "           2       1.00      1.00      1.00        33\n",
            "           3       1.00      1.00      1.00        34\n",
            "           4       1.00      1.00      1.00        46\n",
            "           5       0.98      0.98      0.98        47\n",
            "           6       0.97      1.00      0.99        35\n",
            "           7       0.97      0.97      0.97        34\n",
            "           8       1.00      0.97      0.98        30\n",
            "           9       0.95      0.95      0.95        40\n",
            "\n",
            "    accuracy                           0.99       360\n",
            "   macro avg       0.99      0.99      0.99       360\n",
            "weighted avg       0.99      0.99      0.99       360\n",
            "\n",
            "\n",
            "SGD Classifier 평가 결과:\n",
            "              precision    recall  f1-score   support\n",
            "\n",
            "           0       1.00      0.97      0.98        33\n",
            "           1       0.93      0.96      0.95        28\n",
            "           2       0.97      1.00      0.99        33\n",
            "           3       1.00      0.97      0.99        34\n",
            "           4       1.00      1.00      1.00        46\n",
            "           5       0.93      0.91      0.92        47\n",
            "           6       0.94      0.97      0.96        35\n",
            "           7       0.97      0.97      0.97        34\n",
            "           8       0.90      0.87      0.88        30\n",
            "           9       0.90      0.93      0.91        40\n",
            "\n",
            "    accuracy                           0.96       360\n",
            "   macro avg       0.96      0.96      0.96       360\n",
            "weighted avg       0.96      0.96      0.96       360\n",
            "\n",
            "\n",
            "Logistic Regression 평가 결과:\n",
            "              precision    recall  f1-score   support\n",
            "\n",
            "           0       1.00      1.00      1.00        33\n",
            "           1       0.97      1.00      0.98        28\n",
            "           2       0.97      1.00      0.99        33\n",
            "           3       0.97      0.97      0.97        34\n",
            "           4       1.00      0.98      0.99        46\n",
            "           5       0.92      0.94      0.93        47\n",
            "           6       0.97      0.97      0.97        35\n",
            "           7       1.00      0.97      0.99        34\n",
            "           8       0.97      0.97      0.97        30\n",
            "           9       0.97      0.95      0.96        40\n",
            "\n",
            "    accuracy                           0.97       360\n",
            "   macro avg       0.97      0.97      0.97       360\n",
            "weighted avg       0.97      0.97      0.97       360\n",
            "\n",
            "\n",
            "모델별 성능 비교 결과:\n",
            "                     Accuracy  Precision    Recall  F1 Score\n",
            "Model                                                       \n",
            "Decision Tree        0.841667   0.845609  0.841667  0.841786\n",
            "Random Forest        0.972222   0.972551  0.972222  0.972229\n",
            "SVM                  0.986111   0.986188  0.986111  0.986107\n",
            "SGD Classifier       0.955556   0.955786  0.955556  0.955517\n",
            "Logistic Regression  0.972222   0.972560  0.972222  0.972281\n"
          ]
        }
      ]
    },
    {
      "cell_type": "markdown",
      "source": [
        "데이터셋의 특성에 따라 적절한 성능 평가 지표가 달라진다.\n",
        "- 클래스가 균등하게 분포된 데이터셋에서는 Accuracy가 적합.\n",
        "- 클래스 불균형이 심한 경우에는 Precision, Recall, 또는 F1-Score가 더 적합.\n",
        "\n",
        "![image.png](data:image/png;base64,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)\n",
        "\n",
        "평가지표는 `Accuracy`를 선택\n",
        "- Digits 데이터셋의 경우, 모든 클래스가 비슷한 비율로 존재하므로 모델이 얼마나 많은 샘플을 정확하게 분류했는지를 보는 것이 중요하기 때문.\n",
        "- 모든 지표가 비슷하다는 것은, 모델이 특정 클래스에만 성능이 치우치지 않고, Precision과 Recall에서의 균형이 잘 잡혀 있다는 의미하기 때문."
      ],
      "metadata": {
        "id": "Zb1gaQhSbLrI"
      }
    },
    {
      "cell_type": "markdown",
      "source": [
        "# 6-1. 프로젝트 (1) load_digits : 손글씨를 분류해 봅시다\n",
        "우선 라이브러리 버전을 확인하고 진행할까요?**bold text**\n",
        "\n",
        "\n",
        "```python\n",
        "import sklearn\n",
        "\n",
        "print(sklearn.__version__)\n",
        "```\n",
        "\n",
        "첫 번째 실습입니다.\n",
        "\n",
        "아까 잠깐 다뤄보았던 손글씨 이미지를 제대로 0~9까지 열 가지 카테고리로 분류해 보는 실습을 해 보겠습니다.\n",
        "\n",
        "(1) 필요한 모듈 import하기\n",
        "```python\n",
        "from sklearn.datasets import load_digits\n",
        "from sklearn.model_selection import train_test_split\n",
        "from sklearn.metrics import classification_report\n",
        "```\n",
        "\n",
        "(2) 데이터 준비\n",
        "load_digits 메서드를 사용합니다.\n",
        "\n",
        "(3) 데이터 이해하기\n",
        "지피지기면 백전불태! 다루어야 할 데이터를 자세히 살펴봅시다.\n",
        "\n",
        "- Feature Data 지정하기\n",
        "- Label Data 지정하기\n",
        "- Target Names 출력해 보기\n",
        "- 데이터 Describe 해 보기\n",
        "\n",
        "(4) train, test 데이터 분리\n",
        "모델 학습과 테스트용 문제지와 정답지를 준비해 봅시다.\n",
        "- X_train, X_test, y_train, y_test를 생성하는 방법을 참고해 보세요.\n",
        "\n",
        "(5) 다양한 모델로 학습시켜보기\n",
        "학습데이터 X_train, y_train 을 활용해 분류기 모델을 만들어 봅시다. 어떤 모델이 가장 좋은 성능을 보일까요?\n",
        "\n",
        "- Decision Tree 사용해 보기\n",
        "- Random Forest 사용해 보기\n",
        "- SVM 사용해 보기\n",
        "- SGD Classifier 사용해 보기\n",
        "- Logistic Regression 사용해 보기\n",
        "\n",
        "(6) 모델을 평가해 보기\n",
        "학습된 모델들의 테스트데이터 예측 결과를 어떻게 해석해야 할까요? 모델의 성능을 평가하는 지표로는 무엇이 좋을까요? sklearn.metrics 에서 제공하는 평가지표 중 적절한 것을 선택해 보세요. 선택하신 이유도 설명해 주세요."
      ],
      "metadata": {
        "id": "2bldBuSteMTh"
      }
    }
  ]
}