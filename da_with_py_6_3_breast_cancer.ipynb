{
  "nbformat": 4,
  "nbformat_minor": 0,
  "metadata": {
    "colab": {
      "provenance": [],
      "gpuType": "T4",
      "authorship_tag": "ABX9TyNEzf8vky4rWF24qw47bCtg",
      "include_colab_link": true
    },
    "kernelspec": {
      "name": "python3",
      "display_name": "Python 3"
    },
    "language_info": {
      "name": "python"
    }
  },
  "cells": [
    {
      "cell_type": "markdown",
      "metadata": {
        "id": "view-in-github",
        "colab_type": "text"
      },
      "source": [
        "<a href=\"https://colab.research.google.com/github/JUD210/AIFFEL_quest_cr/blob/main/da_with_py_6_3_breast_cancer.ipynb\" target=\"_parent\"><img src=\"https://colab.research.google.com/assets/colab-badge.svg\" alt=\"Open In Colab\"/></a>"
      ]
    },
    {
      "cell_type": "code",
      "execution_count": 1,
      "metadata": {
        "colab": {
          "base_uri": "https://localhost:8080/"
        },
        "id": "ln7igTfZeCnI",
        "outputId": "a681dbf0-dfdb-4e63-b828-754db6df64e7"
      },
      "outputs": [
        {
          "output_type": "stream",
          "name": "stdout",
          "text": [
            "sklearn version: 1.3.2\n"
          ]
        }
      ],
      "source": [
        "# 6-3. 프로젝트 (3) load_breast_cancer : 유방암 여부를 진단해 봅시다\n",
        "\n",
        "# 라이브러리 버전 확인\n",
        "import sklearn\n",
        "print(f\"sklearn version: {sklearn.__version__}\")"
      ]
    },
    {
      "cell_type": "code",
      "source": [
        "# (1) 필요한 모듈 import하기\n",
        "import pandas as pd\n",
        "from sklearn.datasets import load_breast_cancer\n",
        "from sklearn.model_selection import train_test_split\n",
        "from sklearn.metrics import classification_report, accuracy_score, precision_score, recall_score, f1_score\n",
        "from sklearn.tree import DecisionTreeClassifier\n",
        "from sklearn.ensemble import RandomForestClassifier\n",
        "from sklearn.svm import SVC\n",
        "from sklearn.linear_model import SGDClassifier, LogisticRegression\n",
        "from sklearn.preprocessing import StandardScaler\n"
      ],
      "metadata": {
        "id": "EjG5AA_VelQq"
      },
      "execution_count": 2,
      "outputs": []
    },
    {
      "cell_type": "code",
      "source": [
        "# (2) 데이터 준비\n",
        "breast_cancer = load_breast_cancer()\n",
        "print(type(breast_cancer))\n",
        "print(breast_cancer.keys())"
      ],
      "metadata": {
        "id": "mKnVajK0evxF",
        "colab": {
          "base_uri": "https://localhost:8080/"
        },
        "outputId": "15aa192f-8a71-404a-ac5f-947791c4ee28"
      },
      "execution_count": 3,
      "outputs": [
        {
          "output_type": "stream",
          "name": "stdout",
          "text": [
            "<class 'sklearn.utils._bunch.Bunch'>\n",
            "dict_keys(['data', 'target', 'frame', 'target_names', 'DESCR', 'feature_names', 'filename', 'data_module'])\n"
          ]
        }
      ]
    },
    {
      "cell_type": "code",
      "source": [
        "# (3) 데이터 이해하기\n",
        "# Feature Data 지정하기\n",
        "X = breast_cancer.data\n",
        "print(\"\\nX: \", X)\n",
        "print(\"\\nData Shape:\", X.shape)\n",
        "print(\"\\nFeature Data Sample: \", X[0])\n",
        "print(\"\\nFeature Names:\", breast_cancer.feature_names)\n",
        "print(\"len(breast_cancer.feature_names): \", len(breast_cancer.feature_names))\n",
        "\n",
        "# Label Data 지정하기\n",
        "y = breast_cancer.target\n",
        "print(\"Label Shape:\", y.shape)\n",
        "print(\"\\nLabel Data Sample: \", y[0])\n",
        "\n",
        "# Target Names 출력해 보기\n",
        "print(\"Target Names:\", breast_cancer.target_names)\n",
        "print(\"len(breast_cancer.target_names): \", len(breast_cancer.target_names))\n",
        "\n",
        "# 데이터 Describe 해 보기\n",
        "\n",
        "print(\"\\nDescription:\")\n",
        "print(breast_cancer.DESCR)\n"
      ],
      "metadata": {
        "colab": {
          "base_uri": "https://localhost:8080/"
        },
        "id": "NG16Gbqze0Hc",
        "outputId": "59d76612-58e6-4ac1-9260-a8be9e69a781"
      },
      "execution_count": 4,
      "outputs": [
        {
          "output_type": "stream",
          "name": "stdout",
          "text": [
            "\n",
            "X:  [[1.799e+01 1.038e+01 1.228e+02 ... 2.654e-01 4.601e-01 1.189e-01]\n",
            " [2.057e+01 1.777e+01 1.329e+02 ... 1.860e-01 2.750e-01 8.902e-02]\n",
            " [1.969e+01 2.125e+01 1.300e+02 ... 2.430e-01 3.613e-01 8.758e-02]\n",
            " ...\n",
            " [1.660e+01 2.808e+01 1.083e+02 ... 1.418e-01 2.218e-01 7.820e-02]\n",
            " [2.060e+01 2.933e+01 1.401e+02 ... 2.650e-01 4.087e-01 1.240e-01]\n",
            " [7.760e+00 2.454e+01 4.792e+01 ... 0.000e+00 2.871e-01 7.039e-02]]\n",
            "\n",
            "Data Shape: (569, 30)\n",
            "\n",
            "Feature Data Sample:  [1.799e+01 1.038e+01 1.228e+02 1.001e+03 1.184e-01 2.776e-01 3.001e-01\n",
            " 1.471e-01 2.419e-01 7.871e-02 1.095e+00 9.053e-01 8.589e+00 1.534e+02\n",
            " 6.399e-03 4.904e-02 5.373e-02 1.587e-02 3.003e-02 6.193e-03 2.538e+01\n",
            " 1.733e+01 1.846e+02 2.019e+03 1.622e-01 6.656e-01 7.119e-01 2.654e-01\n",
            " 4.601e-01 1.189e-01]\n",
            "\n",
            "Feature Names: ['mean radius' 'mean texture' 'mean perimeter' 'mean area'\n",
            " 'mean smoothness' 'mean compactness' 'mean concavity'\n",
            " 'mean concave points' 'mean symmetry' 'mean fractal dimension'\n",
            " 'radius error' 'texture error' 'perimeter error' 'area error'\n",
            " 'smoothness error' 'compactness error' 'concavity error'\n",
            " 'concave points error' 'symmetry error' 'fractal dimension error'\n",
            " 'worst radius' 'worst texture' 'worst perimeter' 'worst area'\n",
            " 'worst smoothness' 'worst compactness' 'worst concavity'\n",
            " 'worst concave points' 'worst symmetry' 'worst fractal dimension']\n",
            "len(breast_cancer.feature_names):  30\n",
            "Label Shape: (569,)\n",
            "\n",
            "Label Data Sample:  0\n",
            "Target Names: ['malignant' 'benign']\n",
            "len(breast_cancer.target_names):  2\n",
            "\n",
            "Description:\n",
            ".. _breast_cancer_dataset:\n",
            "\n",
            "Breast cancer wisconsin (diagnostic) dataset\n",
            "--------------------------------------------\n",
            "\n",
            "**Data Set Characteristics:**\n",
            "\n",
            "    :Number of Instances: 569\n",
            "\n",
            "    :Number of Attributes: 30 numeric, predictive attributes and the class\n",
            "\n",
            "    :Attribute Information:\n",
            "        - radius (mean of distances from center to points on the perimeter)\n",
            "        - texture (standard deviation of gray-scale values)\n",
            "        - perimeter\n",
            "        - area\n",
            "        - smoothness (local variation in radius lengths)\n",
            "        - compactness (perimeter^2 / area - 1.0)\n",
            "        - concavity (severity of concave portions of the contour)\n",
            "        - concave points (number of concave portions of the contour)\n",
            "        - symmetry\n",
            "        - fractal dimension (\"coastline approximation\" - 1)\n",
            "\n",
            "        The mean, standard error, and \"worst\" or largest (mean of the three\n",
            "        worst/largest values) of these features were computed for each image,\n",
            "        resulting in 30 features.  For instance, field 0 is Mean Radius, field\n",
            "        10 is Radius SE, field 20 is Worst Radius.\n",
            "\n",
            "        - class:\n",
            "                - WDBC-Malignant\n",
            "                - WDBC-Benign\n",
            "\n",
            "    :Summary Statistics:\n",
            "\n",
            "    ===================================== ====== ======\n",
            "                                           Min    Max\n",
            "    ===================================== ====== ======\n",
            "    radius (mean):                        6.981  28.11\n",
            "    texture (mean):                       9.71   39.28\n",
            "    perimeter (mean):                     43.79  188.5\n",
            "    area (mean):                          143.5  2501.0\n",
            "    smoothness (mean):                    0.053  0.163\n",
            "    compactness (mean):                   0.019  0.345\n",
            "    concavity (mean):                     0.0    0.427\n",
            "    concave points (mean):                0.0    0.201\n",
            "    symmetry (mean):                      0.106  0.304\n",
            "    fractal dimension (mean):             0.05   0.097\n",
            "    radius (standard error):              0.112  2.873\n",
            "    texture (standard error):             0.36   4.885\n",
            "    perimeter (standard error):           0.757  21.98\n",
            "    area (standard error):                6.802  542.2\n",
            "    smoothness (standard error):          0.002  0.031\n",
            "    compactness (standard error):         0.002  0.135\n",
            "    concavity (standard error):           0.0    0.396\n",
            "    concave points (standard error):      0.0    0.053\n",
            "    symmetry (standard error):            0.008  0.079\n",
            "    fractal dimension (standard error):   0.001  0.03\n",
            "    radius (worst):                       7.93   36.04\n",
            "    texture (worst):                      12.02  49.54\n",
            "    perimeter (worst):                    50.41  251.2\n",
            "    area (worst):                         185.2  4254.0\n",
            "    smoothness (worst):                   0.071  0.223\n",
            "    compactness (worst):                  0.027  1.058\n",
            "    concavity (worst):                    0.0    1.252\n",
            "    concave points (worst):               0.0    0.291\n",
            "    symmetry (worst):                     0.156  0.664\n",
            "    fractal dimension (worst):            0.055  0.208\n",
            "    ===================================== ====== ======\n",
            "\n",
            "    :Missing Attribute Values: None\n",
            "\n",
            "    :Class Distribution: 212 - Malignant, 357 - Benign\n",
            "\n",
            "    :Creator:  Dr. William H. Wolberg, W. Nick Street, Olvi L. Mangasarian\n",
            "\n",
            "    :Donor: Nick Street\n",
            "\n",
            "    :Date: November, 1995\n",
            "\n",
            "This is a copy of UCI ML Breast Cancer Wisconsin (Diagnostic) datasets.\n",
            "https://goo.gl/U2Uwz2\n",
            "\n",
            "Features are computed from a digitized image of a fine needle\n",
            "aspirate (FNA) of a breast mass.  They describe\n",
            "characteristics of the cell nuclei present in the image.\n",
            "\n",
            "Separating plane described above was obtained using\n",
            "Multisurface Method-Tree (MSM-T) [K. P. Bennett, \"Decision Tree\n",
            "Construction Via Linear Programming.\" Proceedings of the 4th\n",
            "Midwest Artificial Intelligence and Cognitive Science Society,\n",
            "pp. 97-101, 1992], a classification method which uses linear\n",
            "programming to construct a decision tree.  Relevant features\n",
            "were selected using an exhaustive search in the space of 1-4\n",
            "features and 1-3 separating planes.\n",
            "\n",
            "The actual linear program used to obtain the separating plane\n",
            "in the 3-dimensional space is that described in:\n",
            "[K. P. Bennett and O. L. Mangasarian: \"Robust Linear\n",
            "Programming Discrimination of Two Linearly Inseparable Sets\",\n",
            "Optimization Methods and Software 1, 1992, 23-34].\n",
            "\n",
            "This database is also available through the UW CS ftp server:\n",
            "\n",
            "ftp ftp.cs.wisc.edu\n",
            "cd math-prog/cpo-dataset/machine-learn/WDBC/\n",
            "\n",
            "|details-start|\n",
            "**References**\n",
            "|details-split|\n",
            "\n",
            "- W.N. Street, W.H. Wolberg and O.L. Mangasarian. Nuclear feature extraction \n",
            "  for breast tumor diagnosis. IS&T/SPIE 1993 International Symposium on \n",
            "  Electronic Imaging: Science and Technology, volume 1905, pages 861-870,\n",
            "  San Jose, CA, 1993.\n",
            "- O.L. Mangasarian, W.N. Street and W.H. Wolberg. Breast cancer diagnosis and \n",
            "  prognosis via linear programming. Operations Research, 43(4), pages 570-577, \n",
            "  July-August 1995.\n",
            "- W.H. Wolberg, W.N. Street, and O.L. Mangasarian. Machine learning techniques\n",
            "  to diagnose breast cancer from fine-needle aspirates. Cancer Letters 77 (1994) \n",
            "  163-171.\n",
            "\n",
            "|details-end|\n"
          ]
        }
      ]
    },
    {
      "cell_type": "code",
      "source": [
        "# (4) train, test 데이터 분리\n",
        "X_train, X_test, y_train, y_test = train_test_split(X, y, test_size=0.2, random_state=42)\n",
        "print(\"X_train shape:\", X_train.shape, X_train[0])\n",
        "print(\"X_test shape:\", X_test.shape)\n",
        "print(\"y_train shape:\", y_train.shape, y_train[0])\n",
        "print(\"y_test shape:\", y_test.shape)"
      ],
      "metadata": {
        "id": "uebi9c0We1ag",
        "colab": {
          "base_uri": "https://localhost:8080/"
        },
        "outputId": "48ce9e2e-a28d-4344-ee1b-a665bf775885"
      },
      "execution_count": 5,
      "outputs": [
        {
          "output_type": "stream",
          "name": "stdout",
          "text": [
            "X_train shape: (455, 30) [9.029e+00 1.733e+01 5.879e+01 2.505e+02 1.066e-01 1.413e-01 3.130e-01\n",
            " 4.375e-02 2.111e-01 8.046e-02 3.274e-01 1.194e+00 1.885e+00 1.767e+01\n",
            " 9.549e-03 8.606e-02 3.038e-01 3.322e-02 4.197e-02 9.559e-03 1.031e+01\n",
            " 2.265e+01 6.550e+01 3.247e+02 1.482e-01 4.365e-01 1.252e+00 1.750e-01\n",
            " 4.228e-01 1.175e-01]\n",
            "X_test shape: (114, 30)\n",
            "y_train shape: (455,) 1\n",
            "y_test shape: (114,)\n"
          ]
        }
      ]
    },
    {
      "cell_type": "code",
      "source": [
        "# (5) 다양한 모델로 학습시켜보기\n",
        "models = {\n",
        "    \"Decision Tree\": DecisionTreeClassifier(random_state=42),\n",
        "    \"Random Forest\": RandomForestClassifier(random_state=42),\n",
        "    \"SVM\": SVC(random_state=42),\n",
        "    \"SGD Classifier\": SGDClassifier(random_state=42),\n",
        "    \"Logistic Regression\": LogisticRegression(random_state=42, max_iter=4000)\n",
        "    # \"Logistic Regression\": LogisticRegression(random_state=42, max_iter=3000, solver=\"saga\")\n",
        "    # \"Logistic Regression\": LogisticRegression(random_state=42, max_iter=1000, solver='lbfgs')\n",
        "    # 오류\n",
        "\n",
        "\n",
        "}\n",
        "\n",
        "for name, model in models.items():\n",
        "    model.fit(X_train, y_train)\n",
        "    print(f\"\\n{name} trained.\")\n"
      ],
      "metadata": {
        "colab": {
          "base_uri": "https://localhost:8080/"
        },
        "id": "c4Lsg_I6e2XK",
        "outputId": "1ede8687-072f-4d09-f73a-351dcdb68733"
      },
      "execution_count": 6,
      "outputs": [
        {
          "output_type": "stream",
          "name": "stdout",
          "text": [
            "\n",
            "Decision Tree trained.\n",
            "\n",
            "Random Forest trained.\n",
            "\n",
            "SVM trained.\n",
            "\n",
            "SGD Classifier trained.\n",
            "\n",
            "Logistic Regression trained.\n"
          ]
        }
      ]
    },
    {
      "cell_type": "code",
      "source": [
        "# (6) 모델을 평가해 보기\n",
        "\n",
        "# for name, model in models.items():\n",
        "#     y_pred = model.predict(X_test)\n",
        "\n",
        "#     print(f\"\\n{name} 평가 결과:\")\n",
        "\n",
        "\n",
        "def evaluate_model(y_true, y_pred):\n",
        "    return {\n",
        "        'Accuracy': accuracy_score(y_true, y_pred),\n",
        "        'Precision': precision_score(y_true, y_pred, average='weighted', zero_division=1),\n",
        "        'Recall': recall_score(y_true, y_pred, average='weighted'),\n",
        "        'F1 Score': f1_score(y_true, y_pred, average='weighted', zero_division=1)\n",
        "    }\n",
        "\n",
        "# 모델들의 평가 결과를 저장할 리스트 초기화\n",
        "model_results = []\n",
        "\n",
        "for name, model in models.items():\n",
        "    y_pred = model.predict(X_test)\n",
        "\n",
        "    # 각 모델별 평가 결과 출력\n",
        "    print(f\"\\n{name} 평가 결과:\")\n",
        "    print(classification_report(y_test, y_pred, target_names=breast_cancer.target_names.astype(str), zero_division=1))\n",
        "\n",
        "    # 결과 저장\n",
        "    results = evaluate_model(y_test, y_pred)\n",
        "    results['Model'] = name\n",
        "    model_results.append(results)\n",
        "\n",
        "# 결과를 DataFrame으로 변환\n",
        "df_results = pd.DataFrame(model_results).set_index('Model')\n",
        "\n",
        "# 결과 출력\n",
        "print(\"\\n모델별 성능 비교 결과:\")\n",
        "print(df_results)\n"
      ],
      "metadata": {
        "colab": {
          "base_uri": "https://localhost:8080/"
        },
        "id": "3iqgLZz3e3Gy",
        "outputId": "49c665e3-b2c7-401a-f14e-5114153f0776"
      },
      "execution_count": 7,
      "outputs": [
        {
          "output_type": "stream",
          "name": "stdout",
          "text": [
            "\n",
            "Decision Tree 평가 결과:\n",
            "              precision    recall  f1-score   support\n",
            "\n",
            "   malignant       0.93      0.93      0.93        43\n",
            "      benign       0.96      0.96      0.96        71\n",
            "\n",
            "    accuracy                           0.95       114\n",
            "   macro avg       0.94      0.94      0.94       114\n",
            "weighted avg       0.95      0.95      0.95       114\n",
            "\n",
            "\n",
            "Random Forest 평가 결과:\n",
            "              precision    recall  f1-score   support\n",
            "\n",
            "   malignant       0.98      0.93      0.95        43\n",
            "      benign       0.96      0.99      0.97        71\n",
            "\n",
            "    accuracy                           0.96       114\n",
            "   macro avg       0.97      0.96      0.96       114\n",
            "weighted avg       0.97      0.96      0.96       114\n",
            "\n",
            "\n",
            "SVM 평가 결과:\n",
            "              precision    recall  f1-score   support\n",
            "\n",
            "   malignant       1.00      0.86      0.92        43\n",
            "      benign       0.92      1.00      0.96        71\n",
            "\n",
            "    accuracy                           0.95       114\n",
            "   macro avg       0.96      0.93      0.94       114\n",
            "weighted avg       0.95      0.95      0.95       114\n",
            "\n",
            "\n",
            "SGD Classifier 평가 결과:\n",
            "              precision    recall  f1-score   support\n",
            "\n",
            "   malignant       1.00      0.74      0.85        43\n",
            "      benign       0.87      1.00      0.93        71\n",
            "\n",
            "    accuracy                           0.90       114\n",
            "   macro avg       0.93      0.87      0.89       114\n",
            "weighted avg       0.92      0.90      0.90       114\n",
            "\n",
            "\n",
            "Logistic Regression 평가 결과:\n",
            "              precision    recall  f1-score   support\n",
            "\n",
            "   malignant       0.97      0.91      0.94        43\n",
            "      benign       0.95      0.99      0.97        71\n",
            "\n",
            "    accuracy                           0.96       114\n",
            "   macro avg       0.96      0.95      0.95       114\n",
            "weighted avg       0.96      0.96      0.96       114\n",
            "\n",
            "\n",
            "모델별 성능 비교 결과:\n",
            "                     Accuracy  Precision    Recall  F1 Score\n",
            "Model                                                       \n",
            "Decision Tree        0.947368   0.947368  0.947368  0.947368\n",
            "Random Forest        0.964912   0.965205  0.964912  0.964738\n",
            "SVM                  0.947368   0.951470  0.947368  0.946462\n",
            "SGD Classifier       0.903509   0.916453  0.903509  0.899901\n",
            "Logistic Regression  0.956140   0.956905  0.956140  0.955801\n"
          ]
        }
      ]
    },
    {
      "cell_type": "markdown",
      "source": [
        "데이터셋의 특성에 따라 적절한 성능 평가 지표가 달라진다.\n",
        "- 클래스가 균등하게 분포된 데이터셋에서는 Accuracy가 적합.\n",
        "- 클래스 불균형이 심한 경우에는 Precision, Recall, 또는 F1-Score가 더 적합.\n",
        "\n",
        "평가지표는 `Recall`을 선택\n",
        "- malignant 클래스(43개)와 benign 클래스(71개) 사이에 약간의 불균형이 존재.\n",
        "- 의료 진단 문제에서는 false positives(양성으로 잘못 진단)와 false negatives(악성을 놓침) 모두 중요하므로, precision(정밀도)과 recall(재현율)의 조화 평균인 F1-Score를 채택할 수도 있겠다.\n",
        "    - 하지만, FN 여부가 가장 중요한 '암'인데다가, Recall이나 F1 Score나 유의미한 차이가 없다.\n",
        "\n",
        "참고로, Random Forest와 Logistic Regression이 F1-Score와 Accuracy가 모두 우수하며, 안정적인 성능을 보이고 있다는 점도 주목할 만하다고 본다."
      ],
      "metadata": {
        "id": "Zb1gaQhSbLrI"
      }
    },
    {
      "cell_type": "markdown",
      "source": [
        "\n",
        "---\n",
        "# 6-3. 프로젝트 (3) load_breast_cancer : 유방암 여부를 진단해 봅시다\n",
        "\n",
        "마지막으로 유방암 여부를 진단해 보겠습니다.\n",
        "이 데이터 또한 여러 사람의 건강 지표에 대한 데이터가 feature로 들어가있고, 유방암의 여부가 True, False로 label이 됩니다.\n",
        "\n",
        "주어진 데이터로 환자의 유방암 여부를 분류해 볼 수 있을까요?\n",
        "\n",
        "(1) 필요한 모듈 import하기\n",
        "```python\n",
        "from sklearn.datasets import load_breast_cancer\n",
        "from sklearn.model_selection import train_test_split\n",
        "from sklearn.metrics import classification_report\n",
        "```\n",
        "\n",
        "(2) 데이터 준비\n",
        "load_breast_cancer 메서드를 사용합니다.\n",
        "\n",
        "(3) 데이터 이해하기\n",
        "지피지기면 백전불태! 다루어야 할 데이터를 자세히 살펴봅시다.\n",
        "\n",
        "- Feature Data 지정하기\n",
        "- Label Data 지정하기\n",
        "- Target Names 출력해 보기\n",
        "- 데이터 Describe 해 보기\n",
        "\n",
        "(4) train, test 데이터 분리\n",
        "모델 학습과 테스트용 문제지와 정답지를 준비해 봅시다.\n",
        "- X_train, X_test, y_train, y_test를 생성하는 방법을 참고해 보세요.\n",
        "\n",
        "(5) 다양한 모델로 학습시켜보기\n",
        "학습데이터 X_train, y_train 을 활용해 분류기 모델을 만들어 봅시다. 어떤 모델이 가장 좋은 성능을 보일까요?\n",
        "\n",
        "- Decision Tree 사용해 보기\n",
        "- Random Forest 사용해 보기\n",
        "- SVM 사용해 보기\n",
        "- SGD Classifier 사용해 보기\n",
        "- Logistic Regression 사용해 보기\n",
        "\n",
        "(6) 모델을 평가해 보기\n",
        "학습된 모델들의 테스트데이터 예측 결과를 어떻게 해석해야 할까요? 모델의 성능을 평가하는 지표로는 무엇이 좋을까요? sklearn.metrics 에서 제공하는 평가지표 중 적절한 것을 선택해 보세요. 선택하신 이유도 설명해 주세요."
      ],
      "metadata": {
        "id": "2bldBuSteMTh"
      }
    }
  ]
}